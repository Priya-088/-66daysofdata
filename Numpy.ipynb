{
 "cells": [
  {
   "cell_type": "markdown",
   "id": "8d2d13a1",
   "metadata": {},
   "source": [
    "## Numpy- The fundamental package for scientific computing with Python"
   ]
  },
  {
   "cell_type": "markdown",
   "id": "a7deb9c6",
   "metadata": {},
   "source": [
    "NumPy is the fundamental package for scientific computing in Python. It is a Python library that provides a multidimensional array object, various derived objects (such as masked arrays and matrices), and an assortment of routines for fast operations on arrays, including mathematical, logical, shape manipulation, sorting, selecting, I/O, discrete Fourier transforms, basic linear algebra, basic statistical operations, random simulation and much more.\n",
    "\n",
    "At the core of the NumPy package, is the ndarray object. This encapsulates n-dimensional arrays of homogeneous data types, with many operations being performed in compiled code for performance.\n"
   ]
  },
  {
   "cell_type": "code",
   "execution_count": 1,
   "id": "7f6c3476",
   "metadata": {},
   "outputs": [],
   "source": [
    "#importing the packages\n",
    "import numpy as np\n",
    "import math"
   ]
  },
  {
   "cell_type": "markdown",
   "id": "ee7d0ac5",
   "metadata": {},
   "source": [
    "Let's creating a simple 2D array, which; as you can see is simply a list of lists. You must be wondering then, why dont we simply keep it that way then; as a list of lists? Because a 2D 'array' and its additional supporting functions/attribute are much needed for data handling and do not come with simple lists."
   ]
  },
  {
   "cell_type": "code",
   "execution_count": 2,
   "id": "1775891a",
   "metadata": {},
   "outputs": [
    {
     "data": {
      "text/plain": [
       "array([[1, 2, 3],\n",
       "       [4, 5, 6]])"
      ]
     },
     "execution_count": 2,
     "metadata": {},
     "output_type": "execute_result"
    }
   ],
   "source": [
    "#Creating a 2D array\n",
    "b=np.array([[1,2,3],[4,5,6]])\n",
    "b"
   ]
  },
  {
   "cell_type": "markdown",
   "id": "eb273718",
   "metadata": {},
   "source": [
    "we can know the dimension of array with attribute shape"
   ]
  },
  {
   "cell_type": "code",
   "execution_count": 3,
   "id": "7c177715",
   "metadata": {},
   "outputs": [
    {
     "data": {
      "text/plain": [
       "(2, 3)"
      ]
     },
     "execution_count": 3,
     "metadata": {},
     "output_type": "execute_result"
    }
   ],
   "source": [
    "b.shape"
   ]
  },
  {
   "cell_type": "code",
   "execution_count": 4,
   "id": "00282548",
   "metadata": {},
   "outputs": [
    {
     "name": "stdout",
     "output_type": "stream",
     "text": [
      "[[1 2 3]\n",
      " [4 5 6]]\n"
     ]
    },
    {
     "data": {
      "text/plain": [
       "(1, 2, 4)"
      ]
     },
     "execution_count": 4,
     "metadata": {},
     "output_type": "execute_result"
    }
   ],
   "source": [
    "#accessing the elements from array\n",
    "print(b)\n",
    "b[0,0], b[0,1], b[1,0]"
   ]
  },
  {
   "cell_type": "markdown",
   "id": "e140d355",
   "metadata": {},
   "source": [
    "Next we look at quick ways of creating some arrays with default values"
   ]
  },
  {
   "cell_type": "code",
   "execution_count": 5,
   "id": "791ef1fd",
   "metadata": {},
   "outputs": [
    {
     "data": {
      "text/plain": [
       "array([[0., 0.],\n",
       "       [0., 0.]])"
      ]
     },
     "execution_count": 5,
     "metadata": {},
     "output_type": "execute_result"
    }
   ],
   "source": [
    "#All zeros\n",
    "np.zeros((2,2))"
   ]
  },
  {
   "cell_type": "code",
   "execution_count": 6,
   "id": "9163684d",
   "metadata": {},
   "outputs": [
    {
     "data": {
      "text/plain": [
       "array([[1., 1.],\n",
       "       [1., 1.],\n",
       "       [1., 1.]])"
      ]
     },
     "execution_count": 6,
     "metadata": {},
     "output_type": "execute_result"
    }
   ],
   "source": [
    "#All ones\n",
    "np.ones((3,2))"
   ]
  },
  {
   "cell_type": "code",
   "execution_count": 7,
   "id": "c77c9bf9",
   "metadata": {},
   "outputs": [
    {
     "data": {
      "text/plain": [
       "array([[3.14159265, 3.14159265],\n",
       "       [3.14159265, 3.14159265],\n",
       "       [3.14159265, 3.14159265]])"
      ]
     },
     "execution_count": 7,
     "metadata": {},
     "output_type": "execute_result"
    }
   ],
   "source": [
    "##All constants\n",
    "np.full((3,2),math.pi)"
   ]
  },
  {
   "cell_type": "code",
   "execution_count": 9,
   "id": "01f6c246",
   "metadata": {},
   "outputs": [
    {
     "data": {
      "text/plain": [
       "array([[1., 0., 0., 0., 0.],\n",
       "       [0., 1., 0., 0., 0.],\n",
       "       [0., 0., 1., 0., 0.],\n",
       "       [0., 0., 0., 1., 0.],\n",
       "       [0., 0., 0., 0., 1.]])"
      ]
     },
     "execution_count": 9,
     "metadata": {},
     "output_type": "execute_result"
    }
   ],
   "source": [
    "#Identity matrix\n",
    "np.eye(5)"
   ]
  },
  {
   "cell_type": "code",
   "execution_count": 14,
   "id": "7f99ce7d",
   "metadata": {},
   "outputs": [
    {
     "name": "stdout",
     "output_type": "stream",
     "text": [
      "Help on built-in function rand:\n",
      "\n",
      "rand(...) method of numpy.random.mtrand.RandomState instance\n",
      "    rand(d0, d1, ..., dn)\n",
      "    \n",
      "    Random values in a given shape.\n",
      "    \n",
      "    .. note::\n",
      "        This is a convenience function for users porting code from Matlab,\n",
      "        and wraps `random_sample`. That function takes a\n",
      "        tuple to specify the size of the output, which is consistent with\n",
      "        other NumPy functions like `numpy.zeros` and `numpy.ones`.\n",
      "    \n",
      "    Create an array of the given shape and populate it with\n",
      "    random samples from a uniform distribution\n",
      "    over ``[0, 1)``.\n",
      "    \n",
      "    Parameters\n",
      "    ----------\n",
      "    d0, d1, ..., dn : int, optional\n",
      "        The dimensions of the returned array, must be non-negative.\n",
      "        If no argument is given a single Python float is returned.\n",
      "    \n",
      "    Returns\n",
      "    -------\n",
      "    out : ndarray, shape ``(d0, d1, ..., dn)``\n",
      "        Random values.\n",
      "    \n",
      "    See Also\n",
      "    --------\n",
      "    random\n",
      "    \n",
      "    Examples\n",
      "    --------\n",
      "    >>> np.random.rand(3,2)\n",
      "    array([[ 0.14022471,  0.96360618],  #random\n",
      "           [ 0.37601032,  0.25528411],  #random\n",
      "           [ 0.49313049,  0.94909878]]) #random\n",
      "\n"
     ]
    }
   ],
   "source": [
    "#Random vector\n",
    "help(np.random.rand)"
   ]
  },
  {
   "cell_type": "markdown",
   "id": "b59a34b7",
   "metadata": {},
   "source": [
    "Learn more from documentation: https://numpy.org/devdocs/user/quickstart.html"
   ]
  },
  {
   "cell_type": "code",
   "execution_count": 16,
   "id": "0abd033e",
   "metadata": {},
   "outputs": [
    {
     "data": {
      "text/plain": [
       "array([0.80765843, 0.67425004, 0.1843258 , 0.73121632, 0.67007076])"
      ]
     },
     "execution_count": 16,
     "metadata": {},
     "output_type": "execute_result"
    }
   ],
   "source": [
    "#Random vector\n",
    "#Create an array of the given shape and populate it with random samples from a uniform distribution over [0, 1).\n",
    "np.random.rand(5)"
   ]
  },
  {
   "cell_type": "code",
   "execution_count": 18,
   "id": "5e72140f",
   "metadata": {},
   "outputs": [
    {
     "data": {
      "text/plain": [
       "array([[-0.77461718, -0.70715012],\n",
       "       [ 1.14973951, -1.55533349],\n",
       "       [ 2.15318458,  0.84657131]])"
      ]
     },
     "execution_count": 18,
     "metadata": {},
     "output_type": "execute_result"
    }
   ],
   "source": [
    "#Generates an array of shape, filled with random floats sampled from a univariate “normal” (Gaussian) distribution of mean 0 and variance 1\n",
    "np.random.randn(3,2)"
   ]
  },
  {
   "cell_type": "code",
   "execution_count": 19,
   "id": "be056177",
   "metadata": {},
   "outputs": [
    {
     "data": {
      "text/plain": [
       "array([[2, 9, 8],\n",
       "       [7, 2, 1]])"
      ]
     },
     "execution_count": 19,
     "metadata": {},
     "output_type": "execute_result"
    }
   ],
   "source": [
    "#Returns array of numbers of specified size with given range of values\n",
    "np.random.randint(high=10,low=1,size=(2,3))"
   ]
  },
  {
   "cell_type": "code",
   "execution_count": 21,
   "id": "9c423a99",
   "metadata": {},
   "outputs": [
    {
     "data": {
      "text/plain": [
       "array([ 0,  1,  2,  3,  4,  5,  6,  7,  8,  9, 10, 11, 12, 13, 14])"
      ]
     },
     "execution_count": 21,
     "metadata": {},
     "output_type": "execute_result"
    }
   ],
   "source": [
    "#To create an array in sequence\n",
    "x=np.arange(0,15)\n",
    "x"
   ]
  },
  {
   "cell_type": "code",
   "execution_count": 22,
   "id": "8ae472ac",
   "metadata": {},
   "outputs": [
    {
     "data": {
      "text/plain": [
       "array([0, 2, 4, 6, 8])"
      ]
     },
     "execution_count": 22,
     "metadata": {},
     "output_type": "execute_result"
    }
   ],
   "source": [
    "np.arange(0,10,2)"
   ]
  },
  {
   "cell_type": "code",
   "execution_count": 23,
   "id": "006f9a18",
   "metadata": {},
   "outputs": [
    {
     "data": {
      "text/plain": [
       "array([ 2.        ,  2.57142857,  3.14285714,  3.71428571,  4.28571429,\n",
       "        4.85714286,  5.42857143,  6.        ,  6.57142857,  7.14285714,\n",
       "        7.71428571,  8.28571429,  8.85714286,  9.42857143, 10.        ])"
      ]
     },
     "execution_count": 23,
     "metadata": {},
     "output_type": "execute_result"
    }
   ],
   "source": [
    "#To create a sequence with equally spaced elements\n",
    "np.linspace(start=2,stop=10,num=15)"
   ]
  },
  {
   "cell_type": "markdown",
   "id": "680c3f0b",
   "metadata": {},
   "source": [
    "To create an array of required shape from the existing array- Use np.random.choice()\n",
    "- The output will be different for each run, we can use replace= True in parameters to get fixed values"
   ]
  },
  {
   "cell_type": "code",
   "execution_count": 28,
   "id": "42e5282c",
   "metadata": {},
   "outputs": [
    {
     "data": {
      "text/plain": [
       "array([ 7,  9, 13,  9,  4, 12])"
      ]
     },
     "execution_count": 28,
     "metadata": {},
     "output_type": "execute_result"
    }
   ],
   "source": [
    "np.random.choice(x,6)"
   ]
  },
  {
   "cell_type": "code",
   "execution_count": 29,
   "id": "dc416bea",
   "metadata": {},
   "outputs": [
    {
     "data": {
      "text/plain": [
       "array([ 2,  0, 14, 11,  4,  8])"
      ]
     },
     "execution_count": 29,
     "metadata": {},
     "output_type": "execute_result"
    }
   ],
   "source": [
    "np.random.choice(x,6,replace=False)"
   ]
  },
  {
   "cell_type": "code",
   "execution_count": 30,
   "id": "7781a735",
   "metadata": {},
   "outputs": [
    {
     "data": {
      "text/plain": [
       "array(['c', 'c', 'b', 'a', 'c', 'b', 'b', 'b', 'a'], dtype='<U1')"
      ]
     },
     "execution_count": 30,
     "metadata": {},
     "output_type": "execute_result"
    }
   ],
   "source": [
    "np.random.choice(['a','b','c'],9)"
   ]
  },
  {
   "cell_type": "code",
   "execution_count": 31,
   "id": "f6cfecd6",
   "metadata": {},
   "outputs": [
    {
     "data": {
      "text/plain": [
       "array(['b', 'c', 'c', 'c', 'a', 'a', 'b', 'c', 'c', 'c', 'a', 'b', 'a',\n",
       "       'a', 'a', 'b', 'c', 'b', 'c', 'b', 'b', 'c', 'b', 'c', 'b', 'a',\n",
       "       'c', 'c', 'b', 'a', 'b', 'c', 'c', 'b', 'b', 'c', 'c', 'a', 'b',\n",
       "       'c', 'b', 'b', 'a', 'c', 'c', 'a', 'a', 'a', 'a', 'b', 'a', 'b',\n",
       "       'a', 'b', 'c', 'b', 'b', 'c', 'c', 'c', 'c', 'a', 'c', 'a', 'c',\n",
       "       'c', 'c', 'a', 'a', 'c', 'a', 'a', 'c', 'c', 'b', 'a', 'a', 'b',\n",
       "       'c', 'a', 'c', 'a', 'c', 'c', 'c', 'b', 'a', 'b', 'b', 'c', 'c',\n",
       "       'c', 'b', 'a', 'a', 'c', 'a', 'b', 'b', 'b', 'c', 'b', 'c', 'a',\n",
       "       'a', 'b', 'b', 'c', 'c', 'b', 'c', 'b', 'c', 'a', 'a', 'c', 'c',\n",
       "       'c', 'a', 'b', 'b', 'b', 'c', 'c', 'c', 'c', 'b', 'c', 'b', 'b',\n",
       "       'c', 'a', 'c', 'a', 'b', 'c', 'a', 'b', 'c', 'b', 'c', 'b', 'a',\n",
       "       'a', 'a', 'b', 'a', 'c', 'c', 'b', 'b', 'c', 'a', 'a', 'b', 'a',\n",
       "       'c', 'c', 'c', 'b', 'c', 'b', 'b', 'c', 'c', 'a', 'a', 'b', 'a',\n",
       "       'c', 'b', 'a', 'c', 'c', 'a', 'b', 'a', 'b', 'c', 'b', 'b', 'a',\n",
       "       'b', 'b', 'c', 'a', 'b', 'a', 'b', 'a', 'b', 'b', 'a', 'a', 'c',\n",
       "       'c', 'a', 'c', 'b', 'c', 'c', 'b', 'c', 'b', 'c', 'c', 'a', 'b',\n",
       "       'c', 'a', 'a', 'b', 'a', 'b', 'a', 'b', 'b', 'c', 'c', 'a', 'c',\n",
       "       'a', 'b', 'c', 'c', 'b', 'b', 'b', 'a', 'c', 'b', 'a', 'b', 'a',\n",
       "       'a', 'c', 'c', 'c', 'c', 'a', 'c', 'c', 'a', 'b', 'b', 'c', 'c',\n",
       "       'b', 'b', 'c', 'b', 'c', 'c', 'c', 'b', 'c', 'c', 'b', 'c', 'c',\n",
       "       'b', 'a', 'b', 'a', 'a', 'a', 'a', 'c', 'b', 'b', 'b', 'c', 'b',\n",
       "       'a', 'c', 'b', 'a', 'b', 'c', 'a', 'c', 'b', 'a', 'c', 'c', 'a',\n",
       "       'c', 'c', 'b', 'c', 'b', 'b', 'a', 'a', 'c', 'b', 'a', 'a', 'a',\n",
       "       'c', 'a', 'b', 'c', 'b', 'c', 'a', 'b', 'b', 'b', 'a', 'c', 'b',\n",
       "       'b', 'c', 'a', 'b', 'c', 'a', 'b', 'c', 'a', 'a', 'b', 'c', 'a',\n",
       "       'b', 'c', 'c', 'a', 'b', 'b', 'c', 'b', 'c', 'a', 'b', 'c', 'a',\n",
       "       'b', 'c', 'a', 'a', 'c', 'b', 'a', 'c', 'b', 'c', 'b', 'c', 'c',\n",
       "       'a', 'c', 'c', 'c', 'c', 'b', 'a', 'c', 'a', 'b', 'b', 'b', 'c',\n",
       "       'c', 'a', 'a', 'c', 'b', 'c', 'a', 'b', 'c', 'b', 'a', 'b', 'a',\n",
       "       'b', 'c', 'a', 'a', 'a', 'a', 'b', 'a', 'a', 'a', 'a', 'b', 'c',\n",
       "       'c', 'b', 'c', 'b', 'b', 'b', 'c', 'a', 'b', 'c', 'a', 'c', 'c',\n",
       "       'a', 'b', 'a', 'a', 'c', 'a', 'c', 'a', 'c', 'a', 'c', 'a', 'c',\n",
       "       'a', 'c', 'b', 'b', 'a', 'c', 'b', 'b', 'c', 'c', 'b', 'c', 'a',\n",
       "       'a', 'c', 'c', 'c', 'b', 'a', 'b', 'a', 'a', 'c', 'b', 'b', 'c',\n",
       "       'b', 'a', 'c', 'b', 'b', 'c', 'c', 'c', 'c', 'a', 'c', 'b', 'b',\n",
       "       'c', 'b', 'a', 'a', 'c', 'a', 'a', 'c', 'b', 'a', 'b', 'c', 'b',\n",
       "       'a', 'c', 'c', 'c', 'b', 'b', 'c', 'c', 'b', 'c', 'a', 'c', 'a',\n",
       "       'c', 'c', 'b', 'c', 'c', 'a', 'a', 'c', 'a', 'b', 'b', 'b', 'b',\n",
       "       'a', 'b', 'b', 'b', 'a', 'b', 'c', 'c', 'a', 'b', 'c', 'c', 'a',\n",
       "       'c', 'b', 'b', 'b', 'c', 'c', 'b', 'c', 'c', 'c', 'b', 'b', 'a',\n",
       "       'a', 'a', 'c', 'b', 'a', 'a', 'b', 'c', 'c', 'c', 'a', 'a', 'c',\n",
       "       'a', 'c', 'b', 'a', 'c', 'a', 'c', 'b', 'c', 'a', 'b', 'a', 'b',\n",
       "       'a', 'b', 'a', 'b', 'c', 'b', 'b', 'c', 'c', 'a', 'b', 'a', 'c',\n",
       "       'a', 'c', 'a', 'b', 'a', 'a', 'b', 'b', 'c', 'c', 'a', 'c', 'c',\n",
       "       'b', 'c', 'b', 'b', 'b', 'b', 'c', 'c', 'c', 'b', 'a', 'c', 'b',\n",
       "       'c', 'a', 'a', 'c', 'b', 'c', 'c', 'a', 'a', 'c', 'b', 'c', 'b',\n",
       "       'c', 'c', 'c', 'c', 'a', 'c', 'a', 'b', 'b', 'a', 'c', 'b', 'a',\n",
       "       'c', 'c', 'a', 'c', 'c', 'a', 'a', 'a', 'c', 'c', 'c', 'a', 'b',\n",
       "       'c', 'b', 'b', 'b', 'a', 'b', 'c', 'a', 'a', 'a', 'c', 'c', 'a',\n",
       "       'c', 'c', 'b', 'c', 'c', 'b', 'a', 'c', 'c', 'b', 'c', 'a', 'b',\n",
       "       'b', 'a', 'c', 'c', 'b', 'c', 'b', 'a', 'c', 'b', 'c', 'b', 'c',\n",
       "       'c', 'a', 'a', 'b', 'b', 'b', 'b', 'a', 'c', 'c', 'b', 'b', 'c',\n",
       "       'b', 'c', 'b', 'c', 'b', 'c', 'c', 'b', 'b', 'b', 'a', 'c', 'a',\n",
       "       'c', 'c', 'c', 'c', 'c', 'a', 'a', 'c', 'b', 'c', 'b', 'b', 'c',\n",
       "       'a', 'c', 'b', 'b', 'c', 'c', 'c', 'b', 'a', 'b', 'b', 'c', 'a',\n",
       "       'c', 'b', 'a', 'b', 'c', 'c', 'c', 'c', 'b', 'a', 'a', 'c', 'a',\n",
       "       'a', 'b', 'a', 'c', 'a', 'a', 'c', 'c', 'c', 'c', 'c', 'c', 'b',\n",
       "       'c', 'b', 'a', 'c', 'b', 'a', 'c', 'a', 'b', 'b', 'a', 'a', 'c',\n",
       "       'c', 'c', 'c', 'a', 'c', 'c', 'a', 'a', 'a', 'c', 'c', 'b', 'c',\n",
       "       'c', 'b', 'c', 'b', 'a', 'c', 'b', 'b', 'a', 'b', 'c', 'b', 'c',\n",
       "       'c', 'b', 'a', 'c', 'a', 'a', 'c', 'c', 'b', 'b', 'b', 'b', 'b',\n",
       "       'c', 'b', 'c', 'c', 'b', 'b', 'a', 'c', 'b', 'c', 'c', 'a', 'a',\n",
       "       'a', 'c', 'a', 'c', 'b', 'c', 'a', 'b', 'a', 'c', 'a', 'c', 'a',\n",
       "       'b', 'b', 'b', 'b', 'c', 'a', 'a', 'a', 'b', 'c', 'a', 'c', 'c',\n",
       "       'c', 'c', 'b', 'b', 'a', 'c', 'b', 'b', 'c', 'c', 'a', 'a', 'b',\n",
       "       'a', 'a', 'c', 'b', 'b', 'c', 'a', 'b', 'c', 'c', 'c', 'b', 'c',\n",
       "       'a', 'c', 'b', 'b', 'a', 'c', 'c', 'b', 'a', 'b', 'b', 'b', 'b',\n",
       "       'a', 'c', 'c', 'c', 'c', 'a', 'c', 'b', 'a', 'a', 'c', 'a', 'c',\n",
       "       'a', 'a', 'a', 'c', 'b', 'c', 'c', 'c', 'c', 'c', 'a', 'c', 'b',\n",
       "       'b', 'b', 'b', 'c', 'c', 'a', 'b', 'a', 'c', 'a', 'b', 'c', 'b',\n",
       "       'b', 'b', 'c', 'b', 'c', 'b', 'c', 'b', 'a', 'b', 'c', 'c', 'b',\n",
       "       'b', 'c', 'c', 'a', 'c', 'b', 'a', 'c', 'c', 'a', 'c', 'b', 'c',\n",
       "       'c', 'a', 'c', 'a', 'b', 'a', 'b', 'a', 'c', 'c', 'c', 'c', 'b',\n",
       "       'c', 'b', 'a', 'b', 'c', 'c', 'a', 'b', 'c', 'a', 'c', 'c', 'b',\n",
       "       'c', 'c', 'c', 'c', 'b', 'a', 'c', 'c', 'b', 'c', 'a', 'b', 'c',\n",
       "       'a', 'a', 'a', 'c', 'c', 'c', 'c', 'b', 'c', 'a', 'a', 'c', 'b',\n",
       "       'a', 'a', 'c', 'c', 'b', 'a', 'a', 'c', 'a', 'c', 'b', 'c'],\n",
       "      dtype='<U1')"
      ]
     },
     "execution_count": 31,
     "metadata": {},
     "output_type": "execute_result"
    }
   ],
   "source": [
    "np.random.choice(['a','b','c'],1000,p=[.3,.3,.4])"
   ]
  },
  {
   "cell_type": "code",
   "execution_count": null,
   "id": "162b33f7",
   "metadata": {},
   "outputs": [],
   "source": []
  }
 ],
 "metadata": {
  "kernelspec": {
   "display_name": "Python 3",
   "language": "python",
   "name": "python3"
  },
  "language_info": {
   "codemirror_mode": {
    "name": "ipython",
    "version": 3
   },
   "file_extension": ".py",
   "mimetype": "text/x-python",
   "name": "python",
   "nbconvert_exporter": "python",
   "pygments_lexer": "ipython3",
   "version": "3.8.8"
  }
 },
 "nbformat": 4,
 "nbformat_minor": 5
}
