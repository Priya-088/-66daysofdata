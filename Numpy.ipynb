{
 "cells": [
  {
   "cell_type": "markdown",
   "id": "8d2d13a1",
   "metadata": {},
   "source": [
    "## Numpy- The fundamental package for scientific computing with Python"
   ]
  },
  {
   "cell_type": "markdown",
   "id": "a7deb9c6",
   "metadata": {},
   "source": [
    "NumPy is the fundamental package for scientific computing in Python. It is a Python library that provides a multidimensional array object, various derived objects (such as masked arrays and matrices), and an assortment of routines for fast operations on arrays, including mathematical, logical, shape manipulation, sorting, selecting, I/O, discrete Fourier transforms, basic linear algebra, basic statistical operations, random simulation and much more.\n",
    "\n",
    "At the core of the NumPy package, is the ndarray object. This encapsulates n-dimensional arrays of homogeneous data types, with many operations being performed in compiled code for performance.\n"
   ]
  },
  {
   "cell_type": "code",
   "execution_count": 1,
   "id": "7f6c3476",
   "metadata": {},
   "outputs": [],
   "source": [
    "#importing the packages\n",
    "import numpy as np\n",
    "import math"
   ]
  },
  {
   "cell_type": "markdown",
   "id": "5a906dec",
   "metadata": {},
   "source": [
    "Suppose we want to calculate the marks obtained by the student in an yearly exam using  Student data with no.of hours he/she studied and no.of classes attened. The simple approach can be formulating the relationshio between the no.of hours studied and no.of classes attend as linear relation.\n",
    "\n",
    "`marks_gained = W1 * no_of_hours + W2 * no_of_classes_attened`\n",
    "\n",
    "Here were are expressing `marks_gained` as linear relation, that is the weighted sum of `no_of_hours` and `no_of_classes_attened`. It is not always necessar to be a linear relationship, can be non linear due to other factors.\n",
    "\n",
    "Let the weights be W1 and W2 are based on statistical analysis of historical data."
   ]
  },
  {
   "cell_type": "code",
   "execution_count": 27,
   "id": "a9b1a0f4",
   "metadata": {},
   "outputs": [],
   "source": [
    "W1, W2 = 0.3, 0.2"
   ]
  },
  {
   "attachments": {
    "table.PNG": {
     "image/png": "[encoded data removed]"
    }
   },
   "cell_type": "markdown",
   "id": "b48d15c4",
   "metadata": {},
   "source": [
    "The given Student data\n",
    "![table.PNG](attachment:table.PNG)"
   ]
  },
  {
   "cell_type": "code",
   "execution_count": 29,
   "id": "b7cac8e3",
   "metadata": {},
   "outputs": [],
   "source": [
    "priya_no_of_hours_studied = 91\n",
    "priya_no_of_classes_attended = 88"
   ]
  },
  {
   "cell_type": "markdown",
   "id": "8d0ed056",
   "metadata": {},
   "source": [
    "Using these varibles and substituting in the linear equation to predict the marks."
   ]
  },
  {
   "cell_type": "code",
   "execution_count": 30,
   "id": "53fbae17",
   "metadata": {},
   "outputs": [
    {
     "data": {
      "text/plain": [
       "44.900000000000006"
      ]
     },
     "execution_count": 30,
     "metadata": {},
     "output_type": "execute_result"
    }
   ],
   "source": [
    "priya_marks_gained = W1 * priya_no_of_hours_studied + W2 * priya_no_of_classes_attended\n",
    "priya_marks_gained"
   ]
  },
  {
   "cell_type": "markdown",
   "id": "a949ff03",
   "metadata": {},
   "source": [
    "For more simpler method we an represent each student data in the form of a vector with `no_of_hours` and `no_of_classes_attened` and a seperate vector for weights. Then finally defining a function to calculate the marks."
   ]
  },
  {
   "cell_type": "code",
   "execution_count": 31,
   "id": "9b81d04e",
   "metadata": {},
   "outputs": [],
   "source": [
    "priya = [91,88]\n",
    "anil = [87,134]\n",
    "ravali =[69,96]\n",
    "vinay = [73,68]"
   ]
  },
  {
   "cell_type": "code",
   "execution_count": 32,
   "id": "938d5877",
   "metadata": {},
   "outputs": [],
   "source": [
    "weights = [0.3,0.2]"
   ]
  },
  {
   "cell_type": "code",
   "execution_count": 35,
   "id": "09e3253a",
   "metadata": {},
   "outputs": [
    {
     "data": {
      "text/plain": [
       "[(91, 0.3), (88, 0.2)]"
      ]
     },
     "execution_count": 35,
     "metadata": {},
     "output_type": "execute_result"
    }
   ],
   "source": [
    "a = list(zip(priya,weights))\n",
    "a"
   ]
  },
  {
   "cell_type": "code",
   "execution_count": 38,
   "id": "feea9c50",
   "metadata": {},
   "outputs": [],
   "source": [
    "def marks_gained(hours_studied,class_attended):\n",
    "    marks=0\n",
    "    z= zip(hours_studied,class_attended)\n",
    "    for x,y in z:\n",
    "        marks += x*y\n",
    "    return marks"
   ]
  },
  {
   "cell_type": "code",
   "execution_count": 39,
   "id": "e609121b",
   "metadata": {},
   "outputs": [
    {
     "data": {
      "text/plain": [
       "44.900000000000006"
      ]
     },
     "execution_count": 39,
     "metadata": {},
     "output_type": "execute_result"
    }
   ],
   "source": [
    "marks_gained(priya,weights)"
   ]
  },
  {
   "cell_type": "code",
   "execution_count": 40,
   "id": "e525ae61",
   "metadata": {},
   "outputs": [
    {
     "data": {
      "text/plain": [
       "52.9"
      ]
     },
     "execution_count": 40,
     "metadata": {},
     "output_type": "execute_result"
    }
   ],
   "source": [
    "marks_gained(anil,weights)"
   ]
  },
  {
   "cell_type": "markdown",
   "id": "6241309f",
   "metadata": {},
   "source": [
    "## Numpy - makes your work more easy\n",
    "\n",
    "The calculation performed by the `marks_gained` (element-wise multiplication of two vectors and taking a sum of the results) is also called the dot product.\n",
    "\n",
    "The Numpy library provides a built-in function to compute the dot product of two vectors. However, we must first convert the lists into Numpy arrays."
   ]
  },
  {
   "cell_type": "code",
   "execution_count": 41,
   "id": "566b3fa1",
   "metadata": {},
   "outputs": [],
   "source": [
    "anil = np.array([87,134])\n",
    "weights = np.array([0.3,0.2])"
   ]
  },
  {
   "cell_type": "code",
   "execution_count": 42,
   "id": "5756a2fa",
   "metadata": {},
   "outputs": [
    {
     "data": {
      "text/plain": [
       "numpy.ndarray"
      ]
     },
     "execution_count": 42,
     "metadata": {},
     "output_type": "execute_result"
    }
   ],
   "source": [
    "type(anil)"
   ]
  },
  {
   "cell_type": "code",
   "execution_count": 43,
   "id": "16bbcad5",
   "metadata": {},
   "outputs": [
    {
     "data": {
      "text/plain": [
       "numpy.ndarray"
      ]
     },
     "execution_count": 43,
     "metadata": {},
     "output_type": "execute_result"
    }
   ],
   "source": [
    "type(weights)"
   ]
  },
  {
   "cell_type": "markdown",
   "id": "0dab881f",
   "metadata": {},
   "source": [
    "## Operations of Numpy\n",
    "\n",
    "Element wise operation takes place between 2 arrays."
   ]
  },
  {
   "cell_type": "code",
   "execution_count": 44,
   "id": "7f866306",
   "metadata": {},
   "outputs": [
    {
     "data": {
      "text/plain": [
       "52.9"
      ]
     },
     "execution_count": 44,
     "metadata": {},
     "output_type": "execute_result"
    }
   ],
   "source": [
    "np.dot(anil,weights)"
   ]
  },
  {
   "cell_type": "code",
   "execution_count": 45,
   "id": "39b6733e",
   "metadata": {},
   "outputs": [
    {
     "data": {
      "text/plain": [
       "52.9"
      ]
     },
     "execution_count": 45,
     "metadata": {},
     "output_type": "execute_result"
    }
   ],
   "source": [
    "(anil*weights).sum()"
   ]
  },
  {
   "cell_type": "code",
   "execution_count": 46,
   "id": "ec8d4c4f",
   "metadata": {},
   "outputs": [],
   "source": [
    "x = np.array([[1,2],[3,4]])\n",
    "y = np.array([[5,6],[7,8]])"
   ]
  },
  {
   "cell_type": "code",
   "execution_count": 48,
   "id": "7e47812b",
   "metadata": {},
   "outputs": [
    {
     "name": "stdout",
     "output_type": "stream",
     "text": [
      "[[1 2]\n",
      " [3 4]]\n",
      "[[5 6]\n",
      " [7 8]]\n"
     ]
    }
   ],
   "source": [
    "print(x)\n",
    "print(y)"
   ]
  },
  {
   "cell_type": "code",
   "execution_count": 47,
   "id": "ca708b45",
   "metadata": {},
   "outputs": [
    {
     "data": {
      "text/plain": [
       "array([[ 6,  8],\n",
       "       [10, 12]])"
      ]
     },
     "execution_count": 47,
     "metadata": {},
     "output_type": "execute_result"
    }
   ],
   "source": [
    "x+y"
   ]
  },
  {
   "cell_type": "code",
   "execution_count": 52,
   "id": "93b24fca",
   "metadata": {},
   "outputs": [
    {
     "data": {
      "text/plain": [
       "array([[ 6,  8],\n",
       "       [10, 12]])"
      ]
     },
     "execution_count": 52,
     "metadata": {},
     "output_type": "execute_result"
    }
   ],
   "source": [
    "np.add(x,y)"
   ]
  },
  {
   "cell_type": "code",
   "execution_count": 49,
   "id": "df194fd0",
   "metadata": {},
   "outputs": [
    {
     "data": {
      "text/plain": [
       "array([[-4, -4],\n",
       "       [-4, -4]])"
      ]
     },
     "execution_count": 49,
     "metadata": {},
     "output_type": "execute_result"
    }
   ],
   "source": [
    "x-y"
   ]
  },
  {
   "cell_type": "code",
   "execution_count": 50,
   "id": "352d8eab",
   "metadata": {},
   "outputs": [
    {
     "data": {
      "text/plain": [
       "array([[-4, -4],\n",
       "       [-4, -4]])"
      ]
     },
     "execution_count": 50,
     "metadata": {},
     "output_type": "execute_result"
    }
   ],
   "source": [
    "np.subtract(x,y)"
   ]
  },
  {
   "cell_type": "code",
   "execution_count": 53,
   "id": "00809b66",
   "metadata": {},
   "outputs": [
    {
     "data": {
      "text/plain": [
       "array([[ 5, 12],\n",
       "       [21, 32]])"
      ]
     },
     "execution_count": 53,
     "metadata": {},
     "output_type": "execute_result"
    }
   ],
   "source": [
    "x*y"
   ]
  },
  {
   "cell_type": "code",
   "execution_count": 55,
   "id": "1c85e0e8",
   "metadata": {},
   "outputs": [
    {
     "data": {
      "text/plain": [
       "array([[ 5, 12],\n",
       "       [21, 32]])"
      ]
     },
     "execution_count": 55,
     "metadata": {},
     "output_type": "execute_result"
    }
   ],
   "source": [
    "np.multiply(x,y)"
   ]
  },
  {
   "cell_type": "code",
   "execution_count": 56,
   "id": "fcfcd7a0",
   "metadata": {},
   "outputs": [
    {
     "data": {
      "text/plain": [
       "array([[0.2       , 0.33333333],\n",
       "       [0.42857143, 0.5       ]])"
      ]
     },
     "execution_count": 56,
     "metadata": {},
     "output_type": "execute_result"
    }
   ],
   "source": [
    "x/y"
   ]
  },
  {
   "cell_type": "code",
   "execution_count": 57,
   "id": "14e49fd1",
   "metadata": {},
   "outputs": [
    {
     "data": {
      "text/plain": [
       "array([[0.2       , 0.33333333],\n",
       "       [0.42857143, 0.5       ]])"
      ]
     },
     "execution_count": 57,
     "metadata": {},
     "output_type": "execute_result"
    }
   ],
   "source": [
    "np.divide(x,y)"
   ]
  },
  {
   "cell_type": "code",
   "execution_count": 58,
   "id": "eabab88e",
   "metadata": {},
   "outputs": [
    {
     "data": {
      "text/plain": [
       "array([[1.        , 1.41421356],\n",
       "       [1.73205081, 2.        ]])"
      ]
     },
     "execution_count": 58,
     "metadata": {},
     "output_type": "execute_result"
    }
   ],
   "source": [
    "np.sqrt(x)"
   ]
  },
  {
   "cell_type": "code",
   "execution_count": 59,
   "id": "020543dc",
   "metadata": {},
   "outputs": [
    {
     "ename": "TypeError",
     "evalue": "only size-1 arrays can be converted to Python scalars",
     "output_type": "error",
     "traceback": [
      "\u001b[1;31m---------------------------------------------------------------------------\u001b[0m",
      "\u001b[1;31mTypeError\u001b[0m                                 Traceback (most recent call last)",
      "\u001b[1;32m<ipython-input-59-b33d9061ea8b>\u001b[0m in \u001b[0;36m<module>\u001b[1;34m\u001b[0m\n\u001b[1;32m----> 1\u001b[1;33m \u001b[0mmath\u001b[0m\u001b[1;33m.\u001b[0m\u001b[0msqrt\u001b[0m\u001b[1;33m(\u001b[0m\u001b[0mx\u001b[0m\u001b[1;33m)\u001b[0m\u001b[1;33m\u001b[0m\u001b[1;33m\u001b[0m\u001b[0m\n\u001b[0m",
      "\u001b[1;31mTypeError\u001b[0m: only size-1 arrays can be converted to Python scalars"
     ]
    }
   ],
   "source": [
    "math.sqrt(x)"
   ]
  },
  {
   "cell_type": "markdown",
   "id": "7d353f88",
   "metadata": {},
   "source": [
    "Math function only works for only scalars."
   ]
  },
  {
   "cell_type": "code",
   "execution_count": 60,
   "id": "8efb45d4",
   "metadata": {},
   "outputs": [
    {
     "name": "stdout",
     "output_type": "stream",
     "text": [
      "[[1 2]\n",
      " [3 4]]\n"
     ]
    }
   ],
   "source": [
    "print(x)"
   ]
  },
  {
   "cell_type": "code",
   "execution_count": 61,
   "id": "8a232a04",
   "metadata": {},
   "outputs": [],
   "source": [
    "x = x.reshape((1,4))"
   ]
  },
  {
   "cell_type": "code",
   "execution_count": 62,
   "id": "a68dea39",
   "metadata": {},
   "outputs": [
    {
     "data": {
      "text/plain": [
       "array([[1, 2, 3, 4]])"
      ]
     },
     "execution_count": 62,
     "metadata": {},
     "output_type": "execute_result"
    }
   ],
   "source": [
    "x"
   ]
  },
  {
   "cell_type": "code",
   "execution_count": 63,
   "id": "89c60466",
   "metadata": {},
   "outputs": [],
   "source": [
    "w = np.array([2,3,4,1])"
   ]
  },
  {
   "cell_type": "code",
   "execution_count": 64,
   "id": "6255403f",
   "metadata": {},
   "outputs": [
    {
     "data": {
      "text/plain": [
       "array([24])"
      ]
     },
     "execution_count": 64,
     "metadata": {},
     "output_type": "execute_result"
    }
   ],
   "source": [
    "np.dot(w,x.T)"
   ]
  },
  {
   "cell_type": "code",
   "execution_count": 65,
   "id": "c0d78265",
   "metadata": {},
   "outputs": [
    {
     "data": {
      "text/plain": [
       "array([[1, 2],\n",
       "       [3, 4]])"
      ]
     },
     "execution_count": 65,
     "metadata": {},
     "output_type": "execute_result"
    }
   ],
   "source": [
    "v = np.array([[1,2],[3,4]])\n",
    "v"
   ]
  },
  {
   "cell_type": "code",
   "execution_count": 69,
   "id": "ebbe7567",
   "metadata": {},
   "outputs": [
    {
     "data": {
      "text/plain": [
       "10"
      ]
     },
     "execution_count": 69,
     "metadata": {},
     "output_type": "execute_result"
    }
   ],
   "source": [
    "np.sum(v)"
   ]
  },
  {
   "cell_type": "code",
   "execution_count": 68,
   "id": "e7289dd4",
   "metadata": {},
   "outputs": [
    {
     "data": {
      "text/plain": [
       "array([3, 7])"
      ]
     },
     "execution_count": 68,
     "metadata": {},
     "output_type": "execute_result"
    }
   ],
   "source": [
    "np.sum(v, axis=1)  #sum of values with in lists"
   ]
  },
  {
   "cell_type": "code",
   "execution_count": 70,
   "id": "fbde2f16",
   "metadata": {},
   "outputs": [
    {
     "data": {
      "text/plain": [
       "array([4, 6])"
      ]
     },
     "execution_count": 70,
     "metadata": {},
     "output_type": "execute_result"
    }
   ],
   "source": [
    "np.sum(v, axis=0) #sum of values across the list"
   ]
  },
  {
   "cell_type": "code",
   "execution_count": 72,
   "id": "46749ec4",
   "metadata": {},
   "outputs": [
    {
     "data": {
      "text/plain": [
       "array([[1, 3],\n",
       "       [2, 4]])"
      ]
     },
     "execution_count": 72,
     "metadata": {},
     "output_type": "execute_result"
    }
   ],
   "source": [
    "v.T  #To get the transpose"
   ]
  },
  {
   "cell_type": "markdown",
   "id": "ac711bba",
   "metadata": {},
   "source": [
    "## Numpu broadcasting"
   ]
  },
  {
   "cell_type": "code",
   "execution_count": 73,
   "id": "17326173",
   "metadata": {},
   "outputs": [],
   "source": [
    "a2 = np.array([[1, 2, 3, 4], \n",
    "                 [5, 6, 7, 8], \n",
    "                 [9, 1, 2, 3]])"
   ]
  },
  {
   "cell_type": "code",
   "execution_count": 74,
   "id": "82ed9b8b",
   "metadata": {},
   "outputs": [],
   "source": [
    "a3 = np.array([[11, 12, 13, 14], \n",
    "                 [15, 16, 17, 18], \n",
    "                 [19, 11, 12, 13]])"
   ]
  },
  {
   "cell_type": "code",
   "execution_count": 76,
   "id": "192d794f",
   "metadata": {},
   "outputs": [
    {
     "data": {
      "text/plain": [
       "array([[ 3,  4,  5,  6],\n",
       "       [ 7,  8,  9, 10],\n",
       "       [11,  3,  4,  5]])"
      ]
     },
     "execution_count": 76,
     "metadata": {},
     "output_type": "execute_result"
    }
   ],
   "source": [
    "a2+2 #adding a scalar"
   ]
  },
  {
   "cell_type": "code",
   "execution_count": 78,
   "id": "194983a7",
   "metadata": {},
   "outputs": [
    {
     "data": {
      "text/plain": [
       "array([[-2, -1,  0,  1],\n",
       "       [ 2,  3,  4,  5],\n",
       "       [ 6, -2, -1,  0]])"
      ]
     },
     "execution_count": 78,
     "metadata": {},
     "output_type": "execute_result"
    }
   ],
   "source": [
    "a2-3"
   ]
  },
  {
   "cell_type": "code",
   "execution_count": 80,
   "id": "9f02e617",
   "metadata": {},
   "outputs": [
    {
     "data": {
      "text/plain": [
       "array([[-10, -10, -10, -10],\n",
       "       [-10, -10, -10, -10],\n",
       "       [-10, -10, -10, -10]])"
      ]
     },
     "execution_count": 80,
     "metadata": {},
     "output_type": "execute_result"
    }
   ],
   "source": [
    "a2-a3 #element wise subraction"
   ]
  },
  {
   "cell_type": "code",
   "execution_count": 79,
   "id": "e4afe0df",
   "metadata": {},
   "outputs": [
    {
     "data": {
      "text/plain": [
       "array([[0.5, 1. , 1.5, 2. ],\n",
       "       [2.5, 3. , 3.5, 4. ],\n",
       "       [4.5, 0.5, 1. , 1.5]])"
      ]
     },
     "execution_count": 79,
     "metadata": {},
     "output_type": "execute_result"
    }
   ],
   "source": [
    "a2/2"
   ]
  },
  {
   "cell_type": "code",
   "execution_count": 82,
   "id": "f0000ab7",
   "metadata": {},
   "outputs": [
    {
     "data": {
      "text/plain": [
       "array([[1, 2, 3, 4],\n",
       "       [5, 6, 7, 8],\n",
       "       [9, 1, 2, 3]])"
      ]
     },
     "execution_count": 82,
     "metadata": {},
     "output_type": "execute_result"
    }
   ],
   "source": [
    "ar = np.array([[1, 2, 3, 4], \n",
    "                 [5, 6, 7, 8], \n",
    "                 [9, 1, 2, 3]])\n",
    "ar"
   ]
  },
  {
   "cell_type": "code",
   "execution_count": 83,
   "id": "f313f9b5",
   "metadata": {},
   "outputs": [
    {
     "data": {
      "text/plain": [
       "(3, 4)"
      ]
     },
     "execution_count": 83,
     "metadata": {},
     "output_type": "execute_result"
    }
   ],
   "source": [
    "ar.shape"
   ]
  },
  {
   "cell_type": "code",
   "execution_count": 84,
   "id": "c9a6e9b3",
   "metadata": {},
   "outputs": [],
   "source": [
    "ar2 = np.array([4,5,6,7])"
   ]
  },
  {
   "cell_type": "code",
   "execution_count": 85,
   "id": "a9b36da2",
   "metadata": {},
   "outputs": [
    {
     "data": {
      "text/plain": [
       "array([4, 5, 6, 7])"
      ]
     },
     "execution_count": 85,
     "metadata": {},
     "output_type": "execute_result"
    }
   ],
   "source": [
    "ar2"
   ]
  },
  {
   "cell_type": "code",
   "execution_count": 86,
   "id": "397cbba3",
   "metadata": {},
   "outputs": [
    {
     "data": {
      "text/plain": [
       "(4,)"
      ]
     },
     "execution_count": 86,
     "metadata": {},
     "output_type": "execute_result"
    }
   ],
   "source": [
    "ar2.shape"
   ]
  },
  {
   "cell_type": "code",
   "execution_count": 87,
   "id": "bd630892",
   "metadata": {},
   "outputs": [
    {
     "data": {
      "text/plain": [
       "array([[ 5,  7,  9, 11],\n",
       "       [ 9, 11, 13, 15],\n",
       "       [13,  6,  8, 10]])"
      ]
     },
     "execution_count": 87,
     "metadata": {},
     "output_type": "execute_result"
    }
   ],
   "source": [
    "ar + ar2"
   ]
  },
  {
   "cell_type": "code",
   "execution_count": 88,
   "id": "022e98f8",
   "metadata": {},
   "outputs": [],
   "source": [
    "ar3 = np.array([7,8])"
   ]
  },
  {
   "cell_type": "code",
   "execution_count": 89,
   "id": "1a55e8b2",
   "metadata": {},
   "outputs": [
    {
     "ename": "ValueError",
     "evalue": "operands could not be broadcast together with shapes (4,) (2,) ",
     "output_type": "error",
     "traceback": [
      "\u001b[1;31m---------------------------------------------------------------------------\u001b[0m",
      "\u001b[1;31mValueError\u001b[0m                                Traceback (most recent call last)",
      "\u001b[1;32m<ipython-input-89-5a170b9df793>\u001b[0m in \u001b[0;36m<module>\u001b[1;34m\u001b[0m\n\u001b[1;32m----> 1\u001b[1;33m \u001b[0mar2\u001b[0m\u001b[1;33m+\u001b[0m\u001b[0mar3\u001b[0m\u001b[1;33m\u001b[0m\u001b[1;33m\u001b[0m\u001b[0m\n\u001b[0m",
      "\u001b[1;31mValueError\u001b[0m: operands could not be broadcast together with shapes (4,) (2,) "
     ]
    }
   ],
   "source": [
    "ar2+ar3"
   ]
  },
  {
   "cell_type": "code",
   "execution_count": 18,
   "id": "9352c483",
   "metadata": {},
   "outputs": [
    {
     "data": {
      "text/plain": [
       "array([1, 3, 4, 6, 7, 8])"
      ]
     },
     "execution_count": 18,
     "metadata": {},
     "output_type": "execute_result"
    }
   ],
   "source": [
    "#Creating a 1D array\n",
    "a = np.array([1,3,4,6,7,8])\n",
    "a"
   ]
  },
  {
   "cell_type": "code",
   "execution_count": 19,
   "id": "fb6a67a6",
   "metadata": {},
   "outputs": [
    {
     "data": {
      "text/plain": [
       "(6,)"
      ]
     },
     "execution_count": 19,
     "metadata": {},
     "output_type": "execute_result"
    }
   ],
   "source": [
    "a.shape"
   ]
  },
  {
   "cell_type": "markdown",
   "id": "ee7d0ac5",
   "metadata": {},
   "source": [
    "Let's creating a simple 2D array, which; as you can see is simply a list of lists. You must be wondering then, why dont we simply keep it that way then; as a list of lists? Because a 2D 'array' and its additional supporting functions/attribute are much needed for data handling and do not come with simple lists."
   ]
  },
  {
   "cell_type": "code",
   "execution_count": 24,
   "id": "1775891a",
   "metadata": {},
   "outputs": [
    {
     "data": {
      "text/plain": [
       "array([[1, 2, 3],\n",
       "       [4, 5, 6]])"
      ]
     },
     "execution_count": 24,
     "metadata": {},
     "output_type": "execute_result"
    }
   ],
   "source": [
    "#Creating a 2D array\n",
    "b=np.array([[1,2,3],[4,5,6]])\n",
    "b"
   ]
  },
  {
   "cell_type": "markdown",
   "id": "eb273718",
   "metadata": {},
   "source": [
    "we can know the dimension of array with attribute shape"
   ]
  },
  {
   "cell_type": "code",
   "execution_count": 25,
   "id": "7c177715",
   "metadata": {},
   "outputs": [
    {
     "data": {
      "text/plain": [
       "(2, 3)"
      ]
     },
     "execution_count": 25,
     "metadata": {},
     "output_type": "execute_result"
    }
   ],
   "source": [
    "b.shape"
   ]
  },
  {
   "cell_type": "code",
   "execution_count": 26,
   "id": "06619d12",
   "metadata": {},
   "outputs": [
    {
     "data": {
      "text/plain": [
       "numpy.ndarray"
      ]
     },
     "execution_count": 26,
     "metadata": {},
     "output_type": "execute_result"
    }
   ],
   "source": [
    "type(b)"
   ]
  },
  {
   "cell_type": "code",
   "execution_count": 21,
   "id": "79c10831",
   "metadata": {},
   "outputs": [],
   "source": [
    "#3D array\n",
    "c = np.array([\n",
    "    [[12,44,66],\n",
    "    [34,56,77]],\n",
    "    [[86,89,88],\n",
    "     [90,23,11]]])"
   ]
  },
  {
   "cell_type": "code",
   "execution_count": 22,
   "id": "a9fe8322",
   "metadata": {},
   "outputs": [
    {
     "data": {
      "text/plain": [
       "(2, 2, 3)"
      ]
     },
     "execution_count": 22,
     "metadata": {},
     "output_type": "execute_result"
    }
   ],
   "source": [
    "c.shape"
   ]
  },
  {
   "cell_type": "code",
   "execution_count": 23,
   "id": "47a675c4",
   "metadata": {},
   "outputs": [
    {
     "data": {
      "text/plain": [
       "numpy.ndarray"
      ]
     },
     "execution_count": 23,
     "metadata": {},
     "output_type": "execute_result"
    }
   ],
   "source": [
    "type(c)"
   ]
  },
  {
   "cell_type": "code",
   "execution_count": 4,
   "id": "00282548",
   "metadata": {},
   "outputs": [
    {
     "name": "stdout",
     "output_type": "stream",
     "text": [
      "[[1 2 3]\n",
      " [4 5 6]]\n"
     ]
    },
    {
     "data": {
      "text/plain": [
       "(1, 2, 4)"
      ]
     },
     "execution_count": 4,
     "metadata": {},
     "output_type": "execute_result"
    }
   ],
   "source": [
    "#accessing the elements from array\n",
    "print(b)\n",
    "b[0,0], b[0,1], b[1,0]"
   ]
  },
  {
   "cell_type": "markdown",
   "id": "e140d355",
   "metadata": {},
   "source": [
    "Next we look at quick ways of creating some arrays with default values"
   ]
  },
  {
   "cell_type": "code",
   "execution_count": 5,
   "id": "791ef1fd",
   "metadata": {},
   "outputs": [
    {
     "data": {
      "text/plain": [
       "array([[0., 0.],\n",
       "       [0., 0.]])"
      ]
     },
     "execution_count": 5,
     "metadata": {},
     "output_type": "execute_result"
    }
   ],
   "source": [
    "#All zeros\n",
    "np.zeros((2,2))"
   ]
  },
  {
   "cell_type": "code",
   "execution_count": 6,
   "id": "9163684d",
   "metadata": {},
   "outputs": [
    {
     "data": {
      "text/plain": [
       "array([[1., 1.],\n",
       "       [1., 1.],\n",
       "       [1., 1.]])"
      ]
     },
     "execution_count": 6,
     "metadata": {},
     "output_type": "execute_result"
    }
   ],
   "source": [
    "#All ones\n",
    "np.ones((3,2))"
   ]
  },
  {
   "cell_type": "code",
   "execution_count": 7,
   "id": "c77c9bf9",
   "metadata": {},
   "outputs": [
    {
     "data": {
      "text/plain": [
       "array([[3.14159265, 3.14159265],\n",
       "       [3.14159265, 3.14159265],\n",
       "       [3.14159265, 3.14159265]])"
      ]
     },
     "execution_count": 7,
     "metadata": {},
     "output_type": "execute_result"
    }
   ],
   "source": [
    "##All constants\n",
    "np.full((3,2),math.pi)"
   ]
  },
  {
   "cell_type": "code",
   "execution_count": 9,
   "id": "01f6c246",
   "metadata": {},
   "outputs": [
    {
     "data": {
      "text/plain": [
       "array([[1., 0., 0., 0., 0.],\n",
       "       [0., 1., 0., 0., 0.],\n",
       "       [0., 0., 1., 0., 0.],\n",
       "       [0., 0., 0., 1., 0.],\n",
       "       [0., 0., 0., 0., 1.]])"
      ]
     },
     "execution_count": 9,
     "metadata": {},
     "output_type": "execute_result"
    }
   ],
   "source": [
    "#Identity matrix\n",
    "np.eye(5)"
   ]
  },
  {
   "cell_type": "code",
   "execution_count": 14,
   "id": "7f99ce7d",
   "metadata": {},
   "outputs": [
    {
     "name": "stdout",
     "output_type": "stream",
     "text": [
      "Help on built-in function rand:\n",
      "\n",
      "rand(...) method of numpy.random.mtrand.RandomState instance\n",
      "    rand(d0, d1, ..., dn)\n",
      "    \n",
      "    Random values in a given shape.\n",
      "    \n",
      "    .. note::\n",
      "        This is a convenience function for users porting code from Matlab,\n",
      "        and wraps `random_sample`. That function takes a\n",
      "        tuple to specify the size of the output, which is consistent with\n",
      "        other NumPy functions like `numpy.zeros` and `numpy.ones`.\n",
      "    \n",
      "    Create an array of the given shape and populate it with\n",
      "    random samples from a uniform distribution\n",
      "    over ``[0, 1)``.\n",
      "    \n",
      "    Parameters\n",
      "    ----------\n",
      "    d0, d1, ..., dn : int, optional\n",
      "        The dimensions of the returned array, must be non-negative.\n",
      "        If no argument is given a single Python float is returned.\n",
      "    \n",
      "    Returns\n",
      "    -------\n",
      "    out : ndarray, shape ``(d0, d1, ..., dn)``\n",
      "        Random values.\n",
      "    \n",
      "    See Also\n",
      "    --------\n",
      "    random\n",
      "    \n",
      "    Examples\n",
      "    --------\n",
      "    >>> np.random.rand(3,2)\n",
      "    array([[ 0.14022471,  0.96360618],  #random\n",
      "           [ 0.37601032,  0.25528411],  #random\n",
      "           [ 0.49313049,  0.94909878]]) #random\n",
      "\n"
     ]
    }
   ],
   "source": [
    "#Random vector\n",
    "help(np.random.rand)"
   ]
  },
  {
   "cell_type": "code",
   "execution_count": 16,
   "id": "0abd033e",
   "metadata": {},
   "outputs": [
    {
     "data": {
      "text/plain": [
       "array([0.80765843, 0.67425004, 0.1843258 , 0.73121632, 0.67007076])"
      ]
     },
     "execution_count": 16,
     "metadata": {},
     "output_type": "execute_result"
    }
   ],
   "source": [
    "#Random vector\n",
    "#Create an array of the given shape and populate it with random samples from a uniform distribution over [0, 1).\n",
    "np.random.rand(5)"
   ]
  },
  {
   "cell_type": "code",
   "execution_count": 18,
   "id": "5e72140f",
   "metadata": {},
   "outputs": [
    {
     "data": {
      "text/plain": [
       "array([[-0.77461718, -0.70715012],\n",
       "       [ 1.14973951, -1.55533349],\n",
       "       [ 2.15318458,  0.84657131]])"
      ]
     },
     "execution_count": 18,
     "metadata": {},
     "output_type": "execute_result"
    }
   ],
   "source": [
    "#Generates an array of shape, filled with random floats sampled from a univariate “normal” (Gaussian) distribution of mean 0 and variance 1\n",
    "np.random.randn(3,2)"
   ]
  },
  {
   "cell_type": "code",
   "execution_count": 19,
   "id": "be056177",
   "metadata": {},
   "outputs": [
    {
     "data": {
      "text/plain": [
       "array([[2, 9, 8],\n",
       "       [7, 2, 1]])"
      ]
     },
     "execution_count": 19,
     "metadata": {},
     "output_type": "execute_result"
    }
   ],
   "source": [
    "#Returns array of numbers of specified size with given range of values\n",
    "np.random.randint(high=10,low=1,size=(2,3))"
   ]
  },
  {
   "cell_type": "code",
   "execution_count": 21,
   "id": "9c423a99",
   "metadata": {},
   "outputs": [
    {
     "data": {
      "text/plain": [
       "array([ 0,  1,  2,  3,  4,  5,  6,  7,  8,  9, 10, 11, 12, 13, 14])"
      ]
     },
     "execution_count": 21,
     "metadata": {},
     "output_type": "execute_result"
    }
   ],
   "source": [
    "#To create an array in sequence\n",
    "x=np.arange(0,15)\n",
    "x"
   ]
  },
  {
   "cell_type": "code",
   "execution_count": 22,
   "id": "8ae472ac",
   "metadata": {},
   "outputs": [
    {
     "data": {
      "text/plain": [
       "array([0, 2, 4, 6, 8])"
      ]
     },
     "execution_count": 22,
     "metadata": {},
     "output_type": "execute_result"
    }
   ],
   "source": [
    "np.arange(0,10,2)"
   ]
  },
  {
   "cell_type": "code",
   "execution_count": 23,
   "id": "006f9a18",
   "metadata": {},
   "outputs": [
    {
     "data": {
      "text/plain": [
       "array([ 2.        ,  2.57142857,  3.14285714,  3.71428571,  4.28571429,\n",
       "        4.85714286,  5.42857143,  6.        ,  6.57142857,  7.14285714,\n",
       "        7.71428571,  8.28571429,  8.85714286,  9.42857143, 10.        ])"
      ]
     },
     "execution_count": 23,
     "metadata": {},
     "output_type": "execute_result"
    }
   ],
   "source": [
    "#To create a sequence with equally spaced elements\n",
    "np.linspace(start=2,stop=10,num=15)"
   ]
  },
  {
   "cell_type": "markdown",
   "id": "680c3f0b",
   "metadata": {},
   "source": [
    "To create an array of required shape from the existing array- Use np.random.choice()\n",
    "- The output will be different for each run, we can use replace= True in parameters to get fixed values"
   ]
  },
  {
   "cell_type": "code",
   "execution_count": 28,
   "id": "42e5282c",
   "metadata": {},
   "outputs": [
    {
     "data": {
      "text/plain": [
       "array([ 7,  9, 13,  9,  4, 12])"
      ]
     },
     "execution_count": 28,
     "metadata": {},
     "output_type": "execute_result"
    }
   ],
   "source": [
    "np.random.choice(x,6)"
   ]
  },
  {
   "cell_type": "code",
   "execution_count": 29,
   "id": "dc416bea",
   "metadata": {},
   "outputs": [
    {
     "data": {
      "text/plain": [
       "array([ 2,  0, 14, 11,  4,  8])"
      ]
     },
     "execution_count": 29,
     "metadata": {},
     "output_type": "execute_result"
    }
   ],
   "source": [
    "np.random.choice(x,6,replace=False)"
   ]
  },
  {
   "cell_type": "code",
   "execution_count": 30,
   "id": "7781a735",
   "metadata": {},
   "outputs": [
    {
     "data": {
      "text/plain": [
       "array(['c', 'c', 'b', 'a', 'c', 'b', 'b', 'b', 'a'], dtype='<U1')"
      ]
     },
     "execution_count": 30,
     "metadata": {},
     "output_type": "execute_result"
    }
   ],
   "source": [
    "np.random.choice(['a','b','c'],9)"
   ]
  },
  {
   "cell_type": "code",
   "execution_count": 31,
   "id": "f6cfecd6",
   "metadata": {
    "scrolled": true
   },
   "outputs": [
    {
     "data": {
      "text/plain": [
       "array(['b', 'c', 'c', 'c', 'a', 'a', 'b', 'c', 'c', 'c', 'a', 'b', 'a',\n",
       "       'a', 'a', 'b', 'c', 'b', 'c', 'b', 'b', 'c', 'b', 'c', 'b', 'a',\n",
       "       'c', 'c', 'b', 'a', 'b', 'c', 'c', 'b', 'b', 'c', 'c', 'a', 'b',\n",
       "       'c', 'b', 'b', 'a', 'c', 'c', 'a', 'a', 'a', 'a', 'b', 'a', 'b',\n",
       "       'a', 'b', 'c', 'b', 'b', 'c', 'c', 'c', 'c', 'a', 'c', 'a', 'c',\n",
       "       'c', 'c', 'a', 'a', 'c', 'a', 'a', 'c', 'c', 'b', 'a', 'a', 'b',\n",
       "       'c', 'a', 'c', 'a', 'c', 'c', 'c', 'b', 'a', 'b', 'b', 'c', 'c',\n",
       "       'c', 'b', 'a', 'a', 'c', 'a', 'b', 'b', 'b', 'c', 'b', 'c', 'a',\n",
       "       'a', 'b', 'b', 'c', 'c', 'b', 'c', 'b', 'c', 'a', 'a', 'c', 'c',\n",
       "       'c', 'a', 'b', 'b', 'b', 'c', 'c', 'c', 'c', 'b', 'c', 'b', 'b',\n",
       "       'c', 'a', 'c', 'a', 'b', 'c', 'a', 'b', 'c', 'b', 'c', 'b', 'a',\n",
       "       'a', 'a', 'b', 'a', 'c', 'c', 'b', 'b', 'c', 'a', 'a', 'b', 'a',\n",
       "       'c', 'c', 'c', 'b', 'c', 'b', 'b', 'c', 'c', 'a', 'a', 'b', 'a',\n",
       "       'c', 'b', 'a', 'c', 'c', 'a', 'b', 'a', 'b', 'c', 'b', 'b', 'a',\n",
       "       'b', 'b', 'c', 'a', 'b', 'a', 'b', 'a', 'b', 'b', 'a', 'a', 'c',\n",
       "       'c', 'a', 'c', 'b', 'c', 'c', 'b', 'c', 'b', 'c', 'c', 'a', 'b',\n",
       "       'c', 'a', 'a', 'b', 'a', 'b', 'a', 'b', 'b', 'c', 'c', 'a', 'c',\n",
       "       'a', 'b', 'c', 'c', 'b', 'b', 'b', 'a', 'c', 'b', 'a', 'b', 'a',\n",
       "       'a', 'c', 'c', 'c', 'c', 'a', 'c', 'c', 'a', 'b', 'b', 'c', 'c',\n",
       "       'b', 'b', 'c', 'b', 'c', 'c', 'c', 'b', 'c', 'c', 'b', 'c', 'c',\n",
       "       'b', 'a', 'b', 'a', 'a', 'a', 'a', 'c', 'b', 'b', 'b', 'c', 'b',\n",
       "       'a', 'c', 'b', 'a', 'b', 'c', 'a', 'c', 'b', 'a', 'c', 'c', 'a',\n",
       "       'c', 'c', 'b', 'c', 'b', 'b', 'a', 'a', 'c', 'b', 'a', 'a', 'a',\n",
       "       'c', 'a', 'b', 'c', 'b', 'c', 'a', 'b', 'b', 'b', 'a', 'c', 'b',\n",
       "       'b', 'c', 'a', 'b', 'c', 'a', 'b', 'c', 'a', 'a', 'b', 'c', 'a',\n",
       "       'b', 'c', 'c', 'a', 'b', 'b', 'c', 'b', 'c', 'a', 'b', 'c', 'a',\n",
       "       'b', 'c', 'a', 'a', 'c', 'b', 'a', 'c', 'b', 'c', 'b', 'c', 'c',\n",
       "       'a', 'c', 'c', 'c', 'c', 'b', 'a', 'c', 'a', 'b', 'b', 'b', 'c',\n",
       "       'c', 'a', 'a', 'c', 'b', 'c', 'a', 'b', 'c', 'b', 'a', 'b', 'a',\n",
       "       'b', 'c', 'a', 'a', 'a', 'a', 'b', 'a', 'a', 'a', 'a', 'b', 'c',\n",
       "       'c', 'b', 'c', 'b', 'b', 'b', 'c', 'a', 'b', 'c', 'a', 'c', 'c',\n",
       "       'a', 'b', 'a', 'a', 'c', 'a', 'c', 'a', 'c', 'a', 'c', 'a', 'c',\n",
       "       'a', 'c', 'b', 'b', 'a', 'c', 'b', 'b', 'c', 'c', 'b', 'c', 'a',\n",
       "       'a', 'c', 'c', 'c', 'b', 'a', 'b', 'a', 'a', 'c', 'b', 'b', 'c',\n",
       "       'b', 'a', 'c', 'b', 'b', 'c', 'c', 'c', 'c', 'a', 'c', 'b', 'b',\n",
       "       'c', 'b', 'a', 'a', 'c', 'a', 'a', 'c', 'b', 'a', 'b', 'c', 'b',\n",
       "       'a', 'c', 'c', 'c', 'b', 'b', 'c', 'c', 'b', 'c', 'a', 'c', 'a',\n",
       "       'c', 'c', 'b', 'c', 'c', 'a', 'a', 'c', 'a', 'b', 'b', 'b', 'b',\n",
       "       'a', 'b', 'b', 'b', 'a', 'b', 'c', 'c', 'a', 'b', 'c', 'c', 'a',\n",
       "       'c', 'b', 'b', 'b', 'c', 'c', 'b', 'c', 'c', 'c', 'b', 'b', 'a',\n",
       "       'a', 'a', 'c', 'b', 'a', 'a', 'b', 'c', 'c', 'c', 'a', 'a', 'c',\n",
       "       'a', 'c', 'b', 'a', 'c', 'a', 'c', 'b', 'c', 'a', 'b', 'a', 'b',\n",
       "       'a', 'b', 'a', 'b', 'c', 'b', 'b', 'c', 'c', 'a', 'b', 'a', 'c',\n",
       "       'a', 'c', 'a', 'b', 'a', 'a', 'b', 'b', 'c', 'c', 'a', 'c', 'c',\n",
       "       'b', 'c', 'b', 'b', 'b', 'b', 'c', 'c', 'c', 'b', 'a', 'c', 'b',\n",
       "       'c', 'a', 'a', 'c', 'b', 'c', 'c', 'a', 'a', 'c', 'b', 'c', 'b',\n",
       "       'c', 'c', 'c', 'c', 'a', 'c', 'a', 'b', 'b', 'a', 'c', 'b', 'a',\n",
       "       'c', 'c', 'a', 'c', 'c', 'a', 'a', 'a', 'c', 'c', 'c', 'a', 'b',\n",
       "       'c', 'b', 'b', 'b', 'a', 'b', 'c', 'a', 'a', 'a', 'c', 'c', 'a',\n",
       "       'c', 'c', 'b', 'c', 'c', 'b', 'a', 'c', 'c', 'b', 'c', 'a', 'b',\n",
       "       'b', 'a', 'c', 'c', 'b', 'c', 'b', 'a', 'c', 'b', 'c', 'b', 'c',\n",
       "       'c', 'a', 'a', 'b', 'b', 'b', 'b', 'a', 'c', 'c', 'b', 'b', 'c',\n",
       "       'b', 'c', 'b', 'c', 'b', 'c', 'c', 'b', 'b', 'b', 'a', 'c', 'a',\n",
       "       'c', 'c', 'c', 'c', 'c', 'a', 'a', 'c', 'b', 'c', 'b', 'b', 'c',\n",
       "       'a', 'c', 'b', 'b', 'c', 'c', 'c', 'b', 'a', 'b', 'b', 'c', 'a',\n",
       "       'c', 'b', 'a', 'b', 'c', 'c', 'c', 'c', 'b', 'a', 'a', 'c', 'a',\n",
       "       'a', 'b', 'a', 'c', 'a', 'a', 'c', 'c', 'c', 'c', 'c', 'c', 'b',\n",
       "       'c', 'b', 'a', 'c', 'b', 'a', 'c', 'a', 'b', 'b', 'a', 'a', 'c',\n",
       "       'c', 'c', 'c', 'a', 'c', 'c', 'a', 'a', 'a', 'c', 'c', 'b', 'c',\n",
       "       'c', 'b', 'c', 'b', 'a', 'c', 'b', 'b', 'a', 'b', 'c', 'b', 'c',\n",
       "       'c', 'b', 'a', 'c', 'a', 'a', 'c', 'c', 'b', 'b', 'b', 'b', 'b',\n",
       "       'c', 'b', 'c', 'c', 'b', 'b', 'a', 'c', 'b', 'c', 'c', 'a', 'a',\n",
       "       'a', 'c', 'a', 'c', 'b', 'c', 'a', 'b', 'a', 'c', 'a', 'c', 'a',\n",
       "       'b', 'b', 'b', 'b', 'c', 'a', 'a', 'a', 'b', 'c', 'a', 'c', 'c',\n",
       "       'c', 'c', 'b', 'b', 'a', 'c', 'b', 'b', 'c', 'c', 'a', 'a', 'b',\n",
       "       'a', 'a', 'c', 'b', 'b', 'c', 'a', 'b', 'c', 'c', 'c', 'b', 'c',\n",
       "       'a', 'c', 'b', 'b', 'a', 'c', 'c', 'b', 'a', 'b', 'b', 'b', 'b',\n",
       "       'a', 'c', 'c', 'c', 'c', 'a', 'c', 'b', 'a', 'a', 'c', 'a', 'c',\n",
       "       'a', 'a', 'a', 'c', 'b', 'c', 'c', 'c', 'c', 'c', 'a', 'c', 'b',\n",
       "       'b', 'b', 'b', 'c', 'c', 'a', 'b', 'a', 'c', 'a', 'b', 'c', 'b',\n",
       "       'b', 'b', 'c', 'b', 'c', 'b', 'c', 'b', 'a', 'b', 'c', 'c', 'b',\n",
       "       'b', 'c', 'c', 'a', 'c', 'b', 'a', 'c', 'c', 'a', 'c', 'b', 'c',\n",
       "       'c', 'a', 'c', 'a', 'b', 'a', 'b', 'a', 'c', 'c', 'c', 'c', 'b',\n",
       "       'c', 'b', 'a', 'b', 'c', 'c', 'a', 'b', 'c', 'a', 'c', 'c', 'b',\n",
       "       'c', 'c', 'c', 'c', 'b', 'a', 'c', 'c', 'b', 'c', 'a', 'b', 'c',\n",
       "       'a', 'a', 'a', 'c', 'c', 'c', 'c', 'b', 'c', 'a', 'a', 'c', 'b',\n",
       "       'a', 'a', 'c', 'c', 'b', 'a', 'a', 'c', 'a', 'c', 'b', 'c'],\n",
       "      dtype='<U1')"
      ]
     },
     "execution_count": 31,
     "metadata": {},
     "output_type": "execute_result"
    }
   ],
   "source": [
    "np.random.choice(['a','b','c'],1000,p=[.3,.3,.4])"
   ]
  },
  {
   "cell_type": "markdown",
   "id": "f12d979e",
   "metadata": {},
   "source": [
    "## Dependence of subset of an array\n",
    "\n",
    "One important thing that you need to keep in mind is that a subset of a numpy array doesnt become an independent array . If you make any changes in that , they reflect in the parent array. you need to use function copy to make an independent array. Lets understand that with an example"
   ]
  },
  {
   "cell_type": "code",
   "execution_count": 2,
   "id": "d7ef2b01",
   "metadata": {},
   "outputs": [
    {
     "name": "stdout",
     "output_type": "stream",
     "text": [
      "[[ 1  2  3  4]\n",
      " [ 5  6  7  8]\n",
      " [ 9 10 11 12]]\n",
      "this is b \n",
      " [[2 3]\n",
      " [6 7]]\n"
     ]
    }
   ],
   "source": [
    "#Defining 'b' which is the part of 'a',not an independent array\n",
    "a=np.array([[1,2,3,4],[5,6,7,8],[9,10,11,12]])\n",
    "print(a)\n",
    "b=a[:2,1:3]\n",
    "print('this is b','\\n',b)"
   ]
  },
  {
   "cell_type": "code",
   "execution_count": 3,
   "id": "ed01405a",
   "metadata": {},
   "outputs": [
    {
     "name": "stdout",
     "output_type": "stream",
     "text": [
      "[[2 3]\n",
      " [6 7]]\n"
     ]
    }
   ],
   "source": [
    "#Creating an independent array using copy\n",
    "c = a[:2,1:3].copy()\n",
    "print(c)"
   ]
  },
  {
   "cell_type": "markdown",
   "id": "09d9ab75",
   "metadata": {},
   "source": [
    "Lets look at element a[0,1] , this is same as b[0,0]"
   ]
  },
  {
   "cell_type": "code",
   "execution_count": 4,
   "id": "1678577d",
   "metadata": {},
   "outputs": [
    {
     "name": "stdout",
     "output_type": "stream",
     "text": [
      "[[ 1  2  3  4]\n",
      " [ 5  6  7  8]\n",
      " [ 9 10 11 12]]\n",
      "2\n",
      "2\n"
     ]
    }
   ],
   "source": [
    "print(a)\n",
    "print(a[0, 1])\n",
    "print(b[0,0])"
   ]
  },
  {
   "cell_type": "code",
   "execution_count": 5,
   "id": "0cfe7602",
   "metadata": {},
   "outputs": [
    {
     "name": "stdout",
     "output_type": "stream",
     "text": [
      "[[ 1 77  3  4]\n",
      " [ 5  6  7  8]\n",
      " [ 9 10 11 12]]\n"
     ]
    }
   ],
   "source": [
    "#Notice that we are not changing 'a' here\n",
    "b[0,0] = 77\n",
    "print(a)"
   ]
  },
  {
   "cell_type": "markdown",
   "id": "e835e337",
   "metadata": {},
   "source": [
    "You can see that although we changed value for b[0,0] but that ended up changing value for a[0,1] too. now lets look at a[0,2] which is same as c[0,1] . lets see if chaning c[0,1] has any effect on a[0,2]."
   ]
  },
  {
   "cell_type": "code",
   "execution_count": 6,
   "id": "851468a3",
   "metadata": {},
   "outputs": [
    {
     "name": "stdout",
     "output_type": "stream",
     "text": [
      "3\n",
      "3\n"
     ]
    }
   ],
   "source": [
    "print(a[0,2])\n",
    "print(c[0,1])"
   ]
  },
  {
   "cell_type": "code",
   "execution_count": 7,
   "id": "1323b4a5",
   "metadata": {},
   "outputs": [
    {
     "name": "stdout",
     "output_type": "stream",
     "text": [
      "[[ 1 77  3  4]\n",
      " [ 5  6  7  8]\n",
      " [ 9 10 11 12]]\n",
      "[[ 2 99]\n",
      " [ 6  7]]\n"
     ]
    }
   ],
   "source": [
    "c[0,1] = 99\n",
    "print(a)\n",
    "print(c)"
   ]
  },
  {
   "cell_type": "markdown",
   "id": "978df1e6",
   "metadata": {},
   "source": [
    "## Accessing arrays with indices\n",
    "Its not necessary that when you are accessing elements of array; index values have to be continuous . They can be any number as long as they do not go out of range of exsiting element positions."
   ]
  },
  {
   "cell_type": "code",
   "execution_count": 8,
   "id": "99cc1cba",
   "metadata": {},
   "outputs": [
    {
     "data": {
      "text/plain": [
       "array([[1, 2],\n",
       "       [3, 4],\n",
       "       [5, 6]])"
      ]
     },
     "execution_count": 8,
     "metadata": {},
     "output_type": "execute_result"
    }
   ],
   "source": [
    "a = np.array([[1,2],[3,4],[5,6]])\n",
    "a"
   ]
  },
  {
   "cell_type": "code",
   "execution_count": 9,
   "id": "47250b1e",
   "metadata": {},
   "outputs": [
    {
     "data": {
      "text/plain": [
       "array([1, 4, 5])"
      ]
     },
     "execution_count": 9,
     "metadata": {},
     "output_type": "execute_result"
    }
   ],
   "source": [
    "a[[0,1,2],[0,1,0]]"
   ]
  },
  {
   "cell_type": "code",
   "execution_count": 10,
   "id": "7593339b",
   "metadata": {},
   "outputs": [
    {
     "data": {
      "text/plain": [
       "array([[ 1,  2,  3],\n",
       "       [ 4,  5,  6],\n",
       "       [ 7,  8,  9],\n",
       "       [10, 11, 12]])"
      ]
     },
     "execution_count": 10,
     "metadata": {},
     "output_type": "execute_result"
    }
   ],
   "source": [
    "a = np.array([[1,2,3],[4,5,6],[7,8,9],[10,11,12]])\n",
    "a"
   ]
  },
  {
   "cell_type": "code",
   "execution_count": 12,
   "id": "df58ba61",
   "metadata": {},
   "outputs": [
    {
     "name": "stdout",
     "output_type": "stream",
     "text": [
      "[0 2 0 1]\n",
      "[0 1 2 3]\n"
     ]
    }
   ],
   "source": [
    "b = np.array([0,2,0,1])\n",
    "c = np.arange(4)\n",
    "print(b)\n",
    "print(c)"
   ]
  },
  {
   "cell_type": "code",
   "execution_count": 13,
   "id": "864f2adf",
   "metadata": {},
   "outputs": [
    {
     "data": {
      "text/plain": [
       "array([ 1,  6,  7, 11])"
      ]
     },
     "execution_count": 13,
     "metadata": {},
     "output_type": "execute_result"
    }
   ],
   "source": [
    "a[c,b]"
   ]
  },
  {
   "cell_type": "markdown",
   "id": "e087162b",
   "metadata": {},
   "source": [
    "Using index you can access elements as well as modify them"
   ]
  },
  {
   "cell_type": "code",
   "execution_count": 14,
   "id": "2a79f684",
   "metadata": {},
   "outputs": [
    {
     "data": {
      "text/plain": [
       "array([[11,  2,  3],\n",
       "       [ 4,  5, 16],\n",
       "       [17,  8,  9],\n",
       "       [10, 21, 12]])"
      ]
     },
     "execution_count": 14,
     "metadata": {},
     "output_type": "execute_result"
    }
   ],
   "source": [
    "a[c,b] +=10\n",
    "a"
   ]
  },
  {
   "cell_type": "markdown",
   "id": "ca31d24c",
   "metadata": {},
   "source": [
    "## Conditional accessing"
   ]
  },
  {
   "cell_type": "code",
   "execution_count": 2,
   "id": "649c69cd",
   "metadata": {},
   "outputs": [
    {
     "data": {
      "text/plain": [
       "array([[1, 2],\n",
       "       [3, 4],\n",
       "       [5, 6]])"
      ]
     },
     "execution_count": 2,
     "metadata": {},
     "output_type": "execute_result"
    }
   ],
   "source": [
    "a = np.array([[1,2],[3,4],[5,6]])\n",
    "a"
   ]
  },
  {
   "cell_type": "code",
   "execution_count": 3,
   "id": "10d0739e",
   "metadata": {},
   "outputs": [
    {
     "data": {
      "text/plain": [
       "array([[False, False],\n",
       "       [ True,  True],\n",
       "       [ True,  True]])"
      ]
     },
     "execution_count": 3,
     "metadata": {},
     "output_type": "execute_result"
    }
   ],
   "source": [
    "a>2"
   ]
  },
  {
   "cell_type": "markdown",
   "id": "b735431c",
   "metadata": {},
   "source": [
    "We can use comparison expressions directly for access. Result is only those elements for which the expression evaluates to True."
   ]
  },
  {
   "cell_type": "code",
   "execution_count": 5,
   "id": "19430fdb",
   "metadata": {},
   "outputs": [
    {
     "name": "stdout",
     "output_type": "stream",
     "text": [
      "[3 4 5 6]\n",
      "(4,)\n"
     ]
    }
   ],
   "source": [
    "print(a[a>2])\n",
    "print(a[a>2].shape)  # The result is 1D array"
   ]
  },
  {
   "cell_type": "code",
   "execution_count": 6,
   "id": "1209827a",
   "metadata": {},
   "outputs": [
    {
     "data": {
      "text/plain": [
       "array([1, 2, 3, 4, 5, 6])"
      ]
     },
     "execution_count": 6,
     "metadata": {},
     "output_type": "execute_result"
    }
   ],
   "source": [
    "#For multiple conditions\n",
    "a[(a>2)|(a<5)]"
   ]
  },
  {
   "cell_type": "code",
   "execution_count": 8,
   "id": "5f424444",
   "metadata": {},
   "outputs": [
    {
     "data": {
      "text/plain": [
       "array([3, 4])"
      ]
     },
     "execution_count": 8,
     "metadata": {},
     "output_type": "execute_result"
    }
   ],
   "source": [
    "a[(a>2) & (a<5)]"
   ]
  },
  {
   "cell_type": "code",
   "execution_count": 12,
   "id": "c0a9c0b8",
   "metadata": {},
   "outputs": [
    {
     "data": {
      "text/plain": [
       "array([[1, 2],\n",
       "       [3, 4]])"
      ]
     },
     "execution_count": 12,
     "metadata": {},
     "output_type": "execute_result"
    }
   ],
   "source": [
    "a[[True,True,False],:]"
   ]
  },
  {
   "cell_type": "code",
   "execution_count": 14,
   "id": "eb3f0677",
   "metadata": {},
   "outputs": [
    {
     "name": "stdout",
     "output_type": "stream",
     "text": [
      "[[ 1  2  3  4]\n",
      " [ 5  6  7  8]\n",
      " [ 9 10 11 12]]\n"
     ]
    },
    {
     "data": {
      "text/plain": [
       "array([[ 1,  2],\n",
       "       [ 5,  6],\n",
       "       [ 9, 10]])"
      ]
     },
     "execution_count": 14,
     "metadata": {},
     "output_type": "execute_result"
    }
   ],
   "source": [
    "#subsetting boolean values\n",
    "x= np.array([[1,2,3,4],[5,6,7,8],[9,10,11,12]])\n",
    "print(x)\n",
    "x[:,[True,True,False,False]]"
   ]
  },
  {
   "cell_type": "code",
   "execution_count": 15,
   "id": "65a84cc1",
   "metadata": {},
   "outputs": [
    {
     "data": {
      "text/plain": [
       "array([[1, 2, 3, 4],\n",
       "       [5, 6, 7, 8]])"
      ]
     },
     "execution_count": 15,
     "metadata": {},
     "output_type": "execute_result"
    }
   ],
   "source": [
    "x[[True,True,False],:]"
   ]
  },
  {
   "cell_type": "code",
   "execution_count": 16,
   "id": "42835c26",
   "metadata": {},
   "outputs": [
    {
     "data": {
      "text/plain": [
       "array([False,  True,  True])"
      ]
     },
     "execution_count": 16,
     "metadata": {},
     "output_type": "execute_result"
    }
   ],
   "source": [
    "x[:,0]>=5"
   ]
  },
  {
   "cell_type": "code",
   "execution_count": 17,
   "id": "8e28dc19",
   "metadata": {},
   "outputs": [
    {
     "data": {
      "text/plain": [
       "array([[ 5,  6,  7,  8],\n",
       "       [ 9, 10, 11, 12]])"
      ]
     },
     "execution_count": 17,
     "metadata": {},
     "output_type": "execute_result"
    }
   ],
   "source": [
    "x[x[:,0]>=5,:]"
   ]
  },
  {
   "cell_type": "markdown",
   "id": "21ef9634",
   "metadata": {},
   "source": [
    "## Benefits of using Numpy arrays\n",
    "\n",
    "Numpy arrays offer the following benefits over Python lists for operating on numerical data:\n",
    "\n",
    "- Ease of use: You can write small, concise, and intuitive mathematical expressions like (priya * weights).sum() rather than using loops & custom functions like marks_gained.\n",
    "- Performance: Numpy operations and functions are implemented internally in C++, which makes them much faster than using Python statements & loops that are interpreted at runtime."
   ]
  },
  {
   "cell_type": "markdown",
   "id": "b59a34b7",
   "metadata": {},
   "source": [
    "Learn more from documentation: https://numpy.org/devdocs/user/quickstart.html"
   ]
  }
 ],
 "metadata": {
  "kernelspec": {
   "display_name": "Python 3",
   "language": "python",
   "name": "python3"
  },
  "language_info": {
   "codemirror_mode": {
    "name": "ipython",
    "version": 3
   },
   "file_extension": ".py",
   "mimetype": "text/x-python",
   "name": "python",
   "nbconvert_exporter": "python",
   "pygments_lexer": "ipython3",
   "version": "3.8.8"
  }
 },
 "nbformat": 4,
 "nbformat_minor": 5
}
